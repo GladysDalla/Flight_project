{
 "cells": [
  {
   "cell_type": "markdown",
   "id": "54391a16",
   "metadata": {},
   "source": [
    "### Variable descriptions\n",
    "\n",
    "    Name - Description\n",
    "    Year - 1987-2008\n",
    "    Month - 1-12\n",
    "    DayofMonth - 1-31\n",
    "    DayOfWeek - 1 (Monday) - 7 (Sunday)\n",
    "    DepTime - actual departure time (local, hhmm)\n",
    "    CRSDepTime - scheduled departure time (local, hhmm)\n",
    "    ArrTime - actual arrival time (local, hhmm)\n",
    "    CRSArrTime - scheduled arrival time (local, hhmm)\n",
    "    UniqueCarrier - unique carrier code\n",
    "    FlightNum - flight number\n",
    "    TailNum - plane tail number\n",
    "    ActualElapsedTime - in minutes\n",
    "    CRSElapsedTime - in minutes\n",
    "    AirTime - in minutes\n",
    "    ArrDelay - arrival delay, in minutes\n",
    "    DepDelay - departure delay, in minutes\n",
    "    Origin - origin IATA airport code\n",
    "    Dest - destination IATA airport code\n",
    "    Distance - in miles\n",
    "    TaxiIn - taxi in time, in minutes\n",
    "    TaxiOut - taxi out time in minutes\n",
    "    Cancelled - was the flight cancelled?\n",
    "    CancellationCode - reason for cancellation (A = carrier, B = weather, C = NAS, D = security)\n",
    "    Diverted - 1 = yes, 0 = no\n",
    "    CarrierDelay - in minutes\n",
    "    WeatherDelay - in minutes\n",
    "    NASDelay - in minutes\n",
    "    SecurityDelay - in minutes\n",
    "    LateAircraftDelay - in minutes"
   ]
  },
  {
   "cell_type": "code",
   "execution_count": 1,
   "id": "16489bf9",
   "metadata": {},
   "outputs": [],
   "source": [
    "# import all packages and set plots to be embedded inline\n",
    "import numpy as np\n",
    "import pandas as pd\n"
   ]
  },
  {
   "cell_type": "code",
   "execution_count": 2,
   "id": "d4958f7f",
   "metadata": {},
   "outputs": [],
   "source": [
    "#Load dataset\n",
    "df_1997 = pd.read_csv('1997.csv')\n",
    "df_2007 = pd.read_csv('2007.csv')\n",
    "pd.set_option('display.max_columns', 29)\n",
    "pd.set_option('display.max_rows', 29)\n",
    "#low_memeory=False"
   ]
  },
  {
   "cell_type": "code",
   "execution_count": 3,
   "id": "9a141b02",
   "metadata": {
    "scrolled": true
   },
   "outputs": [
    {
     "data": {
      "text/html": [
       "<div>\n",
       "<style scoped>\n",
       "    .dataframe tbody tr th:only-of-type {\n",
       "        vertical-align: middle;\n",
       "    }\n",
       "\n",
       "    .dataframe tbody tr th {\n",
       "        vertical-align: top;\n",
       "    }\n",
       "\n",
       "    .dataframe thead th {\n",
       "        text-align: right;\n",
       "    }\n",
       "</style>\n",
       "<table border=\"1\" class=\"dataframe\">\n",
       "  <thead>\n",
       "    <tr style=\"text-align: right;\">\n",
       "      <th></th>\n",
       "      <th>Year</th>\n",
       "      <th>Month</th>\n",
       "      <th>DayofMonth</th>\n",
       "      <th>DayOfWeek</th>\n",
       "      <th>DepTime</th>\n",
       "      <th>CRSDepTime</th>\n",
       "      <th>ArrTime</th>\n",
       "      <th>CRSArrTime</th>\n",
       "      <th>UniqueCarrier</th>\n",
       "      <th>FlightNum</th>\n",
       "      <th>TailNum</th>\n",
       "      <th>ActualElapsedTime</th>\n",
       "      <th>CRSElapsedTime</th>\n",
       "      <th>AirTime</th>\n",
       "      <th>ArrDelay</th>\n",
       "      <th>DepDelay</th>\n",
       "      <th>Origin</th>\n",
       "      <th>Dest</th>\n",
       "      <th>Distance</th>\n",
       "      <th>TaxiIn</th>\n",
       "      <th>TaxiOut</th>\n",
       "      <th>Cancelled</th>\n",
       "      <th>CancellationCode</th>\n",
       "      <th>Diverted</th>\n",
       "      <th>CarrierDelay</th>\n",
       "      <th>WeatherDelay</th>\n",
       "      <th>NASDelay</th>\n",
       "      <th>SecurityDelay</th>\n",
       "      <th>LateAircraftDelay</th>\n",
       "    </tr>\n",
       "  </thead>\n",
       "  <tbody>\n",
       "    <tr>\n",
       "      <th>3572445</th>\n",
       "      <td>1997</td>\n",
       "      <td>8</td>\n",
       "      <td>18</td>\n",
       "      <td>1</td>\n",
       "      <td>1745.0</td>\n",
       "      <td>1745</td>\n",
       "      <td>2001.0</td>\n",
       "      <td>2011</td>\n",
       "      <td>CO</td>\n",
       "      <td>1282</td>\n",
       "      <td>N14212</td>\n",
       "      <td>76.0</td>\n",
       "      <td>86.0</td>\n",
       "      <td>63.0</td>\n",
       "      <td>-10.0</td>\n",
       "      <td>0.0</td>\n",
       "      <td>BNA</td>\n",
       "      <td>CLE</td>\n",
       "      <td>448</td>\n",
       "      <td>3</td>\n",
       "      <td>10</td>\n",
       "      <td>0</td>\n",
       "      <td>NaN</td>\n",
       "      <td>0</td>\n",
       "      <td>NaN</td>\n",
       "      <td>NaN</td>\n",
       "      <td>NaN</td>\n",
       "      <td>NaN</td>\n",
       "      <td>NaN</td>\n",
       "    </tr>\n",
       "    <tr>\n",
       "      <th>2090189</th>\n",
       "      <td>1997</td>\n",
       "      <td>5</td>\n",
       "      <td>8</td>\n",
       "      <td>4</td>\n",
       "      <td>950.0</td>\n",
       "      <td>950</td>\n",
       "      <td>1107.0</td>\n",
       "      <td>1109</td>\n",
       "      <td>AA</td>\n",
       "      <td>804</td>\n",
       "      <td>N2BWAA</td>\n",
       "      <td>77.0</td>\n",
       "      <td>79.0</td>\n",
       "      <td>53.0</td>\n",
       "      <td>-2.0</td>\n",
       "      <td>0.0</td>\n",
       "      <td>DFW</td>\n",
       "      <td>ICT</td>\n",
       "      <td>328</td>\n",
       "      <td>4</td>\n",
       "      <td>20</td>\n",
       "      <td>0</td>\n",
       "      <td>NaN</td>\n",
       "      <td>0</td>\n",
       "      <td>NaN</td>\n",
       "      <td>NaN</td>\n",
       "      <td>NaN</td>\n",
       "      <td>NaN</td>\n",
       "      <td>NaN</td>\n",
       "    </tr>\n",
       "    <tr>\n",
       "      <th>2051272</th>\n",
       "      <td>1997</td>\n",
       "      <td>5</td>\n",
       "      <td>21</td>\n",
       "      <td>3</td>\n",
       "      <td>1520.0</td>\n",
       "      <td>1520</td>\n",
       "      <td>1655.0</td>\n",
       "      <td>1655</td>\n",
       "      <td>CO</td>\n",
       "      <td>410</td>\n",
       "      <td>N14211</td>\n",
       "      <td>95.0</td>\n",
       "      <td>95.0</td>\n",
       "      <td>68.0</td>\n",
       "      <td>0.0</td>\n",
       "      <td>0.0</td>\n",
       "      <td>CLE</td>\n",
       "      <td>EWR</td>\n",
       "      <td>404</td>\n",
       "      <td>5</td>\n",
       "      <td>22</td>\n",
       "      <td>0</td>\n",
       "      <td>NaN</td>\n",
       "      <td>0</td>\n",
       "      <td>NaN</td>\n",
       "      <td>NaN</td>\n",
       "      <td>NaN</td>\n",
       "      <td>NaN</td>\n",
       "      <td>NaN</td>\n",
       "    </tr>\n",
       "    <tr>\n",
       "      <th>3753280</th>\n",
       "      <td>1997</td>\n",
       "      <td>9</td>\n",
       "      <td>4</td>\n",
       "      <td>4</td>\n",
       "      <td>2021.0</td>\n",
       "      <td>2020</td>\n",
       "      <td>2119.0</td>\n",
       "      <td>2138</td>\n",
       "      <td>US</td>\n",
       "      <td>1432</td>\n",
       "      <td>N928VJ</td>\n",
       "      <td>118.0</td>\n",
       "      <td>138.0</td>\n",
       "      <td>104.0</td>\n",
       "      <td>-19.0</td>\n",
       "      <td>1.0</td>\n",
       "      <td>PIT</td>\n",
       "      <td>MCI</td>\n",
       "      <td>773</td>\n",
       "      <td>3</td>\n",
       "      <td>11</td>\n",
       "      <td>0</td>\n",
       "      <td>NaN</td>\n",
       "      <td>0</td>\n",
       "      <td>NaN</td>\n",
       "      <td>NaN</td>\n",
       "      <td>NaN</td>\n",
       "      <td>NaN</td>\n",
       "      <td>NaN</td>\n",
       "    </tr>\n",
       "    <tr>\n",
       "      <th>4293646</th>\n",
       "      <td>1997</td>\n",
       "      <td>10</td>\n",
       "      <td>4</td>\n",
       "      <td>6</td>\n",
       "      <td>901.0</td>\n",
       "      <td>905</td>\n",
       "      <td>1224.0</td>\n",
       "      <td>1240</td>\n",
       "      <td>US</td>\n",
       "      <td>2298</td>\n",
       "      <td>N230AU</td>\n",
       "      <td>143.0</td>\n",
       "      <td>155.0</td>\n",
       "      <td>132.0</td>\n",
       "      <td>-16.0</td>\n",
       "      <td>-4.0</td>\n",
       "      <td>MCI</td>\n",
       "      <td>PHL</td>\n",
       "      <td>1038</td>\n",
       "      <td>3</td>\n",
       "      <td>8</td>\n",
       "      <td>0</td>\n",
       "      <td>NaN</td>\n",
       "      <td>0</td>\n",
       "      <td>NaN</td>\n",
       "      <td>NaN</td>\n",
       "      <td>NaN</td>\n",
       "      <td>NaN</td>\n",
       "      <td>NaN</td>\n",
       "    </tr>\n",
       "  </tbody>\n",
       "</table>\n",
       "</div>"
      ],
      "text/plain": [
       "         Year  Month  DayofMonth  DayOfWeek  DepTime  CRSDepTime  ArrTime  \\\n",
       "3572445  1997      8          18          1   1745.0        1745   2001.0   \n",
       "2090189  1997      5           8          4    950.0         950   1107.0   \n",
       "2051272  1997      5          21          3   1520.0        1520   1655.0   \n",
       "3753280  1997      9           4          4   2021.0        2020   2119.0   \n",
       "4293646  1997     10           4          6    901.0         905   1224.0   \n",
       "\n",
       "         CRSArrTime UniqueCarrier  FlightNum TailNum  ActualElapsedTime  \\\n",
       "3572445        2011            CO       1282  N14212               76.0   \n",
       "2090189        1109            AA        804  N2BWAA               77.0   \n",
       "2051272        1655            CO        410  N14211               95.0   \n",
       "3753280        2138            US       1432  N928VJ              118.0   \n",
       "4293646        1240            US       2298  N230AU              143.0   \n",
       "\n",
       "         CRSElapsedTime  AirTime  ArrDelay  DepDelay Origin Dest  Distance  \\\n",
       "3572445            86.0     63.0     -10.0       0.0    BNA  CLE       448   \n",
       "2090189            79.0     53.0      -2.0       0.0    DFW  ICT       328   \n",
       "2051272            95.0     68.0       0.0       0.0    CLE  EWR       404   \n",
       "3753280           138.0    104.0     -19.0       1.0    PIT  MCI       773   \n",
       "4293646           155.0    132.0     -16.0      -4.0    MCI  PHL      1038   \n",
       "\n",
       "         TaxiIn  TaxiOut  Cancelled  CancellationCode  Diverted  CarrierDelay  \\\n",
       "3572445       3       10          0               NaN         0           NaN   \n",
       "2090189       4       20          0               NaN         0           NaN   \n",
       "2051272       5       22          0               NaN         0           NaN   \n",
       "3753280       3       11          0               NaN         0           NaN   \n",
       "4293646       3        8          0               NaN         0           NaN   \n",
       "\n",
       "         WeatherDelay  NASDelay  SecurityDelay  LateAircraftDelay  \n",
       "3572445           NaN       NaN            NaN                NaN  \n",
       "2090189           NaN       NaN            NaN                NaN  \n",
       "2051272           NaN       NaN            NaN                NaN  \n",
       "3753280           NaN       NaN            NaN                NaN  \n",
       "4293646           NaN       NaN            NaN                NaN  "
      ]
     },
     "execution_count": 3,
     "metadata": {},
     "output_type": "execute_result"
    }
   ],
   "source": [
    "df_1997.sample(5)"
   ]
  },
  {
   "cell_type": "code",
   "execution_count": 4,
   "id": "a9f1d4bb",
   "metadata": {},
   "outputs": [
    {
     "data": {
      "text/html": [
       "<div>\n",
       "<style scoped>\n",
       "    .dataframe tbody tr th:only-of-type {\n",
       "        vertical-align: middle;\n",
       "    }\n",
       "\n",
       "    .dataframe tbody tr th {\n",
       "        vertical-align: top;\n",
       "    }\n",
       "\n",
       "    .dataframe thead th {\n",
       "        text-align: right;\n",
       "    }\n",
       "</style>\n",
       "<table border=\"1\" class=\"dataframe\">\n",
       "  <thead>\n",
       "    <tr style=\"text-align: right;\">\n",
       "      <th></th>\n",
       "      <th>Year</th>\n",
       "      <th>Month</th>\n",
       "      <th>DayofMonth</th>\n",
       "      <th>DayOfWeek</th>\n",
       "      <th>DepTime</th>\n",
       "      <th>CRSDepTime</th>\n",
       "      <th>ArrTime</th>\n",
       "      <th>CRSArrTime</th>\n",
       "      <th>UniqueCarrier</th>\n",
       "      <th>FlightNum</th>\n",
       "      <th>TailNum</th>\n",
       "      <th>ActualElapsedTime</th>\n",
       "      <th>CRSElapsedTime</th>\n",
       "      <th>AirTime</th>\n",
       "      <th>ArrDelay</th>\n",
       "      <th>DepDelay</th>\n",
       "      <th>Origin</th>\n",
       "      <th>Dest</th>\n",
       "      <th>Distance</th>\n",
       "      <th>TaxiIn</th>\n",
       "      <th>TaxiOut</th>\n",
       "      <th>Cancelled</th>\n",
       "      <th>CancellationCode</th>\n",
       "      <th>Diverted</th>\n",
       "      <th>CarrierDelay</th>\n",
       "      <th>WeatherDelay</th>\n",
       "      <th>NASDelay</th>\n",
       "      <th>SecurityDelay</th>\n",
       "      <th>LateAircraftDelay</th>\n",
       "    </tr>\n",
       "  </thead>\n",
       "  <tbody>\n",
       "    <tr>\n",
       "      <th>1610263</th>\n",
       "      <td>2007</td>\n",
       "      <td>3</td>\n",
       "      <td>2</td>\n",
       "      <td>5</td>\n",
       "      <td>657.0</td>\n",
       "      <td>650</td>\n",
       "      <td>919.0</td>\n",
       "      <td>905</td>\n",
       "      <td>MQ</td>\n",
       "      <td>3998</td>\n",
       "      <td>N669MB</td>\n",
       "      <td>142.0</td>\n",
       "      <td>135.0</td>\n",
       "      <td>108.0</td>\n",
       "      <td>14.0</td>\n",
       "      <td>7.0</td>\n",
       "      <td>ORD</td>\n",
       "      <td>OKC</td>\n",
       "      <td>693</td>\n",
       "      <td>3</td>\n",
       "      <td>31</td>\n",
       "      <td>0</td>\n",
       "      <td>NaN</td>\n",
       "      <td>0</td>\n",
       "      <td>0</td>\n",
       "      <td>0</td>\n",
       "      <td>0</td>\n",
       "      <td>0</td>\n",
       "      <td>0</td>\n",
       "    </tr>\n",
       "    <tr>\n",
       "      <th>6579883</th>\n",
       "      <td>2007</td>\n",
       "      <td>11</td>\n",
       "      <td>7</td>\n",
       "      <td>3</td>\n",
       "      <td>2145.0</td>\n",
       "      <td>2135</td>\n",
       "      <td>2326.0</td>\n",
       "      <td>2320</td>\n",
       "      <td>F9</td>\n",
       "      <td>797</td>\n",
       "      <td>N905FR</td>\n",
       "      <td>161.0</td>\n",
       "      <td>165.0</td>\n",
       "      <td>147.0</td>\n",
       "      <td>6.0</td>\n",
       "      <td>10.0</td>\n",
       "      <td>DEN</td>\n",
       "      <td>PDX</td>\n",
       "      <td>992</td>\n",
       "      <td>7</td>\n",
       "      <td>7</td>\n",
       "      <td>0</td>\n",
       "      <td>NaN</td>\n",
       "      <td>0</td>\n",
       "      <td>0</td>\n",
       "      <td>0</td>\n",
       "      <td>0</td>\n",
       "      <td>0</td>\n",
       "      <td>0</td>\n",
       "    </tr>\n",
       "    <tr>\n",
       "      <th>6608492</th>\n",
       "      <td>2007</td>\n",
       "      <td>11</td>\n",
       "      <td>28</td>\n",
       "      <td>3</td>\n",
       "      <td>1329.0</td>\n",
       "      <td>1330</td>\n",
       "      <td>2101.0</td>\n",
       "      <td>2100</td>\n",
       "      <td>HA</td>\n",
       "      <td>28</td>\n",
       "      <td>N598HA</td>\n",
       "      <td>332.0</td>\n",
       "      <td>330.0</td>\n",
       "      <td>313.0</td>\n",
       "      <td>1.0</td>\n",
       "      <td>-1.0</td>\n",
       "      <td>HNL</td>\n",
       "      <td>SEA</td>\n",
       "      <td>2677</td>\n",
       "      <td>6</td>\n",
       "      <td>13</td>\n",
       "      <td>0</td>\n",
       "      <td>NaN</td>\n",
       "      <td>0</td>\n",
       "      <td>0</td>\n",
       "      <td>0</td>\n",
       "      <td>0</td>\n",
       "      <td>0</td>\n",
       "      <td>0</td>\n",
       "    </tr>\n",
       "    <tr>\n",
       "      <th>1533281</th>\n",
       "      <td>2007</td>\n",
       "      <td>3</td>\n",
       "      <td>6</td>\n",
       "      <td>2</td>\n",
       "      <td>620.0</td>\n",
       "      <td>600</td>\n",
       "      <td>810.0</td>\n",
       "      <td>804</td>\n",
       "      <td>EV</td>\n",
       "      <td>4277</td>\n",
       "      <td>N977EV</td>\n",
       "      <td>110.0</td>\n",
       "      <td>124.0</td>\n",
       "      <td>87.0</td>\n",
       "      <td>6.0</td>\n",
       "      <td>20.0</td>\n",
       "      <td>GRR</td>\n",
       "      <td>ATL</td>\n",
       "      <td>640</td>\n",
       "      <td>5</td>\n",
       "      <td>18</td>\n",
       "      <td>0</td>\n",
       "      <td>NaN</td>\n",
       "      <td>0</td>\n",
       "      <td>0</td>\n",
       "      <td>0</td>\n",
       "      <td>0</td>\n",
       "      <td>0</td>\n",
       "      <td>0</td>\n",
       "    </tr>\n",
       "    <tr>\n",
       "      <th>2844116</th>\n",
       "      <td>2007</td>\n",
       "      <td>5</td>\n",
       "      <td>15</td>\n",
       "      <td>2</td>\n",
       "      <td>1201.0</td>\n",
       "      <td>1140</td>\n",
       "      <td>1355.0</td>\n",
       "      <td>1335</td>\n",
       "      <td>MQ</td>\n",
       "      <td>3500</td>\n",
       "      <td>N520DC</td>\n",
       "      <td>114.0</td>\n",
       "      <td>115.0</td>\n",
       "      <td>97.0</td>\n",
       "      <td>20.0</td>\n",
       "      <td>21.0</td>\n",
       "      <td>HSV</td>\n",
       "      <td>DFW</td>\n",
       "      <td>603</td>\n",
       "      <td>10</td>\n",
       "      <td>7</td>\n",
       "      <td>0</td>\n",
       "      <td>NaN</td>\n",
       "      <td>0</td>\n",
       "      <td>0</td>\n",
       "      <td>0</td>\n",
       "      <td>0</td>\n",
       "      <td>0</td>\n",
       "      <td>20</td>\n",
       "    </tr>\n",
       "  </tbody>\n",
       "</table>\n",
       "</div>"
      ],
      "text/plain": [
       "         Year  Month  DayofMonth  DayOfWeek  DepTime  CRSDepTime  ArrTime  \\\n",
       "1610263  2007      3           2          5    657.0         650    919.0   \n",
       "6579883  2007     11           7          3   2145.0        2135   2326.0   \n",
       "6608492  2007     11          28          3   1329.0        1330   2101.0   \n",
       "1533281  2007      3           6          2    620.0         600    810.0   \n",
       "2844116  2007      5          15          2   1201.0        1140   1355.0   \n",
       "\n",
       "         CRSArrTime UniqueCarrier  FlightNum TailNum  ActualElapsedTime  \\\n",
       "1610263         905            MQ       3998  N669MB              142.0   \n",
       "6579883        2320            F9        797  N905FR              161.0   \n",
       "6608492        2100            HA         28  N598HA              332.0   \n",
       "1533281         804            EV       4277  N977EV              110.0   \n",
       "2844116        1335            MQ       3500  N520DC              114.0   \n",
       "\n",
       "         CRSElapsedTime  AirTime  ArrDelay  DepDelay Origin Dest  Distance  \\\n",
       "1610263           135.0    108.0      14.0       7.0    ORD  OKC       693   \n",
       "6579883           165.0    147.0       6.0      10.0    DEN  PDX       992   \n",
       "6608492           330.0    313.0       1.0      -1.0    HNL  SEA      2677   \n",
       "1533281           124.0     87.0       6.0      20.0    GRR  ATL       640   \n",
       "2844116           115.0     97.0      20.0      21.0    HSV  DFW       603   \n",
       "\n",
       "         TaxiIn  TaxiOut  Cancelled CancellationCode  Diverted  CarrierDelay  \\\n",
       "1610263       3       31          0              NaN         0             0   \n",
       "6579883       7        7          0              NaN         0             0   \n",
       "6608492       6       13          0              NaN         0             0   \n",
       "1533281       5       18          0              NaN         0             0   \n",
       "2844116      10        7          0              NaN         0             0   \n",
       "\n",
       "         WeatherDelay  NASDelay  SecurityDelay  LateAircraftDelay  \n",
       "1610263             0         0              0                  0  \n",
       "6579883             0         0              0                  0  \n",
       "6608492             0         0              0                  0  \n",
       "1533281             0         0              0                  0  \n",
       "2844116             0         0              0                 20  "
      ]
     },
     "execution_count": 4,
     "metadata": {},
     "output_type": "execute_result"
    }
   ],
   "source": [
    "df_2007.sample(5)"
   ]
  },
  {
   "cell_type": "code",
   "execution_count": 5,
   "id": "dbeb8051",
   "metadata": {
    "scrolled": false
   },
   "outputs": [
    {
     "name": "stdout",
     "output_type": "stream",
     "text": [
      "<class 'pandas.core.frame.DataFrame'>\n",
      "RangeIndex: 5411843 entries, 0 to 5411842\n",
      "Data columns (total 29 columns):\n",
      " #   Column             Dtype  \n",
      "---  ------             -----  \n",
      " 0   Year               int64  \n",
      " 1   Month              int64  \n",
      " 2   DayofMonth         int64  \n",
      " 3   DayOfWeek          int64  \n",
      " 4   DepTime            float64\n",
      " 5   CRSDepTime         int64  \n",
      " 6   ArrTime            float64\n",
      " 7   CRSArrTime         int64  \n",
      " 8   UniqueCarrier      object \n",
      " 9   FlightNum          int64  \n",
      " 10  TailNum            object \n",
      " 11  ActualElapsedTime  float64\n",
      " 12  CRSElapsedTime     float64\n",
      " 13  AirTime            float64\n",
      " 14  ArrDelay           float64\n",
      " 15  DepDelay           float64\n",
      " 16  Origin             object \n",
      " 17  Dest               object \n",
      " 18  Distance           int64  \n",
      " 19  TaxiIn             int64  \n",
      " 20  TaxiOut            int64  \n",
      " 21  Cancelled          int64  \n",
      " 22  CancellationCode   float64\n",
      " 23  Diverted           int64  \n",
      " 24  CarrierDelay       float64\n",
      " 25  WeatherDelay       float64\n",
      " 26  NASDelay           float64\n",
      " 27  SecurityDelay      float64\n",
      " 28  LateAircraftDelay  float64\n",
      "dtypes: float64(13), int64(12), object(4)\n",
      "memory usage: 1.2+ GB\n",
      "1997:\n",
      " None \n",
      "\n",
      "<class 'pandas.core.frame.DataFrame'>\n",
      "RangeIndex: 7453215 entries, 0 to 7453214\n",
      "Data columns (total 29 columns):\n",
      " #   Column             Dtype  \n",
      "---  ------             -----  \n",
      " 0   Year               int64  \n",
      " 1   Month              int64  \n",
      " 2   DayofMonth         int64  \n",
      " 3   DayOfWeek          int64  \n",
      " 4   DepTime            float64\n",
      " 5   CRSDepTime         int64  \n",
      " 6   ArrTime            float64\n",
      " 7   CRSArrTime         int64  \n",
      " 8   UniqueCarrier      object \n",
      " 9   FlightNum          int64  \n",
      " 10  TailNum            object \n",
      " 11  ActualElapsedTime  float64\n",
      " 12  CRSElapsedTime     float64\n",
      " 13  AirTime            float64\n",
      " 14  ArrDelay           float64\n",
      " 15  DepDelay           float64\n",
      " 16  Origin             object \n",
      " 17  Dest               object \n",
      " 18  Distance           int64  \n",
      " 19  TaxiIn             int64  \n",
      " 20  TaxiOut            int64  \n",
      " 21  Cancelled          int64  \n",
      " 22  CancellationCode   object \n",
      " 23  Diverted           int64  \n",
      " 24  CarrierDelay       int64  \n",
      " 25  WeatherDelay       int64  \n",
      " 26  NASDelay           int64  \n",
      " 27  SecurityDelay      int64  \n",
      " 28  LateAircraftDelay  int64  \n",
      "dtypes: float64(7), int64(17), object(5)\n",
      "memory usage: 1.6+ GB\n",
      "2007:\n",
      " None\n"
     ]
    }
   ],
   "source": [
    "#print('1988:\\n',df_1988.info(),'\\n')\n",
    "print('1997:\\n',df_1997.info(),'\\n')\n",
    "print('2007:\\n',df_2007.info())"
   ]
  },
  {
   "cell_type": "code",
   "execution_count": 6,
   "id": "94ba2b88",
   "metadata": {
    "scrolled": false
   },
   "outputs": [
    {
     "name": "stdout",
     "output_type": "stream",
     "text": [
      "1997:\n",
      " Year                       0\n",
      "Month                      0\n",
      "DayofMonth                 0\n",
      "DayOfWeek                  0\n",
      "DepTime                97763\n",
      "CRSDepTime                 0\n",
      "ArrTime               109844\n",
      "CRSArrTime                 0\n",
      "UniqueCarrier              0\n",
      "FlightNum                  0\n",
      "TailNum                    0\n",
      "ActualElapsedTime     109844\n",
      "CRSElapsedTime          4849\n",
      "AirTime               109844\n",
      "ArrDelay              109844\n",
      "DepDelay               97763\n",
      "Origin                     0\n",
      "Dest                       0\n",
      "Distance                   0\n",
      "TaxiIn                     0\n",
      "TaxiOut                    0\n",
      "Cancelled                  0\n",
      "CancellationCode     5411843\n",
      "Diverted                   0\n",
      "CarrierDelay         5411843\n",
      "WeatherDelay         5411843\n",
      "NASDelay             5411843\n",
      "SecurityDelay        5411843\n",
      "LateAircraftDelay    5411843\n",
      "dtype: int64 \n",
      "\n",
      "2007:\n",
      " Year                       0\n",
      "Month                      0\n",
      "DayofMonth                 0\n",
      "DayOfWeek                  0\n",
      "DepTime               160748\n",
      "CRSDepTime                 0\n",
      "ArrTime               177927\n",
      "CRSArrTime                 0\n",
      "UniqueCarrier              0\n",
      "FlightNum                  0\n",
      "TailNum                   22\n",
      "ActualElapsedTime     177927\n",
      "CRSElapsedTime           994\n",
      "AirTime               177927\n",
      "ArrDelay              177927\n",
      "DepDelay              160748\n",
      "Origin                     0\n",
      "Dest                       0\n",
      "Distance                   0\n",
      "TaxiIn                     0\n",
      "TaxiOut                    0\n",
      "Cancelled                  0\n",
      "CancellationCode     7292466\n",
      "Diverted                   0\n",
      "CarrierDelay               0\n",
      "WeatherDelay               0\n",
      "NASDelay                   0\n",
      "SecurityDelay              0\n",
      "LateAircraftDelay          0\n",
      "dtype: int64 \n",
      "\n"
     ]
    }
   ],
   "source": [
    "# Checking for Null Values\n",
    "#print('1988:\\n',df_1988.isnull().sum(),'\\n')\n",
    "print('1997:\\n',df_1997.isnull().sum(),'\\n')\n",
    "print('2007:\\n',df_2007.isnull().sum(),'\\n')"
   ]
  },
  {
   "cell_type": "code",
   "execution_count": 7,
   "id": "d1bd6e1c",
   "metadata": {},
   "outputs": [
    {
     "name": "stdout",
     "output_type": "stream",
     "text": [
      "1997:\n",
      " 0 \n",
      "\n",
      "2007:\n",
      " 27\n"
     ]
    }
   ],
   "source": [
    "# Checking for duplicates\n",
    "#print('1988:\\n',df_1988.duplicated().sum(),'\\n')\n",
    "print('1997:\\n',df_1997.duplicated().sum(),'\\n')\n",
    "print('2007:\\n',df_2007.duplicated().sum())"
   ]
  },
  {
   "cell_type": "code",
   "execution_count": 8,
   "id": "886bb181",
   "metadata": {},
   "outputs": [
    {
     "name": "stdout",
     "output_type": "stream",
     "text": [
      "1997:\n",
      " [ 1  2  3  4  5  6  7  8  9 10 11 12] \n",
      "\n",
      "2007:\n",
      " [ 1  2  3  4  5  6  7  8  9 10 11 12]\n"
     ]
    }
   ],
   "source": [
    "# Checking the values of Month\n",
    "#print('1988:\\n',df_1988['Month'].unique(),'\\n')\n",
    "print('1997:\\n',df_1997['Month'].unique(),'\\n')\n",
    "print('2007:\\n',df_2007['Month'].unique())"
   ]
  },
  {
   "cell_type": "code",
   "execution_count": 9,
   "id": "30a3caff",
   "metadata": {},
   "outputs": [
    {
     "name": "stdout",
     "output_type": "stream",
     "text": [
      "1997:\n",
      " [28 29 30 31 14  1  2  3  5  6  7  8  9 10 12 13 15 16 17 19 20 21 22 23\n",
      " 24 26 27  4 11 18 25] \n",
      "\n",
      "2007:\n",
      " [ 1  2  3  4  5  6  7  8  9 10 11 12 13 14 15 16 17 18 19 20 21 22 23 24\n",
      " 25 26 27 28 29 30 31]\n"
     ]
    }
   ],
   "source": [
    "# Checking the values of Day of Month\n",
    "#print('1988:\\n',df_1988['DayofMonth'].unique(),'\\n')\n",
    "print('1997:\\n',df_1997['DayofMonth'].unique(),'\\n')\n",
    "print('2007:\\n',df_2007['DayofMonth'].unique())"
   ]
  },
  {
   "cell_type": "code",
   "execution_count": 10,
   "id": "03a06ed2",
   "metadata": {},
   "outputs": [
    {
     "name": "stdout",
     "output_type": "stream",
     "text": [
      "1997:\n",
      " [2 3 4 5 7 1 6] \n",
      "\n",
      "2007:\n",
      " [1 2 3 4 5 6 7]\n"
     ]
    }
   ],
   "source": [
    "# Checking the values of Day of week\n",
    "#print('1988:\\n',df_1988['DayOfWeek'].unique(),'\\n')\n",
    "print('1997:\\n',df_1997['DayOfWeek'].unique(),'\\n')\n",
    "print('2007:\\n',df_2007['DayOfWeek'].unique())"
   ]
  },
  {
   "cell_type": "code",
   "execution_count": 11,
   "id": "c23bd7d1",
   "metadata": {
    "scrolled": true
   },
   "outputs": [
    {
     "name": "stdout",
     "output_type": "stream",
     "text": [
      "1997:\n",
      " ['WN' 'DL' 'HP' 'CO' 'US' 'UA' 'AA' 'NW' 'TW' 'AS'] \n",
      "\n",
      "2007:\n",
      " ['WN' 'XE' 'YV' 'OH' 'OO' 'UA' 'US' 'DL' 'EV' 'F9' 'FL' 'HA' 'MQ' 'NW'\n",
      " '9E' 'AA' 'AQ' 'AS' 'B6' 'CO']\n"
     ]
    }
   ],
   "source": [
    "#Checking the Airlnes \n",
    "#print('1988:\\n',df_1988['UniqueCarrier'].unique(),'\\n')\n",
    "print('1997:\\n',df_1997['UniqueCarrier'].unique(),'\\n')\n",
    "print('2007:\\n',df_2007['UniqueCarrier'].unique())"
   ]
  },
  {
   "cell_type": "code",
   "execution_count": 12,
   "id": "90ec8082",
   "metadata": {},
   "outputs": [
    {
     "name": "stdout",
     "output_type": "stream",
     "text": [
      "1997:\n",
      " 0    5314080\n",
      "1      97763\n",
      "Name: Cancelled, dtype: int64 \n",
      "\n",
      "2007:\n",
      " 0    7292467\n",
      "1     160748\n",
      "Name: Cancelled, dtype: int64\n"
     ]
    }
   ],
   "source": [
    "#print('1988:\\n',df_1988['Cancelled'].value_counts(),'\\n')\n",
    "print('1997:\\n',df_1997['Cancelled'].value_counts(),'\\n')\n",
    "print('2007:\\n',df_2007['Cancelled'].value_counts())"
   ]
  },
  {
   "cell_type": "code",
   "execution_count": 13,
   "id": "5a05e572",
   "metadata": {
    "scrolled": true
   },
   "outputs": [
    {
     "name": "stdout",
     "output_type": "stream",
     "text": [
      "1997:\n",
      " [nan] \n",
      "\n",
      "2007:\n",
      " [nan 'A' 'B' 'C' 'D']\n"
     ]
    }
   ],
   "source": [
    "#print('1988:\\n',df_1988['CancellationCode'].unique(),'\\n')\n",
    "print('1997:\\n',df_1997['CancellationCode'].unique(),'\\n')\n",
    "print('2007:\\n',df_2007['CancellationCode'].unique())"
   ]
  },
  {
   "cell_type": "markdown",
   "id": "590ad87a",
   "metadata": {},
   "source": [
    "#### SUMMARY\n",
    "\n",
    "The datasets seem prety clean but i'll change a few things to fit my analysis\n",
    "\n",
    "**Quality Issues**\n",
    "\n",
    "    1. Change data types of some columns\n",
    "    2. Drop duplicated rows\n",
    "    3. Drop columns that won't be used for analysis\n",
    "    4. Change Day of Week values to be names of days instead of the number representatons\n",
    "    5. Drop null values of departure and arrival time columns \n",
    "\n",
    "**Tidiness Issues**\n",
    "\n",
    "    1. Merge the three date columns Year, Month, DayofMonth to one column name it date"
   ]
  },
  {
   "cell_type": "markdown",
   "id": "bea04810",
   "metadata": {},
   "source": [
    "### CLEANING"
   ]
  },
  {
   "cell_type": "code",
   "execution_count": 14,
   "id": "24d54644",
   "metadata": {},
   "outputs": [],
   "source": [
    "# Make copies \n",
    "#df_1988_clean = df_1988.copy()\n",
    "df_1997_clean = df_1997.copy()\n",
    "df_2007_clean = df_2007.copy()\n"
   ]
  },
  {
   "cell_type": "code",
   "execution_count": null,
   "id": "0585b9b8",
   "metadata": {},
   "outputs": [],
   "source": []
  },
  {
   "cell_type": "markdown",
   "id": "4843b113",
   "metadata": {},
   "source": [
    "**DEFINE**\n",
    "\n",
    "Drop rows with Null values in Arrival time"
   ]
  },
  {
   "cell_type": "markdown",
   "id": "30ceb7c9",
   "metadata": {},
   "source": [
    "**CODE**"
   ]
  },
  {
   "cell_type": "code",
   "execution_count": 15,
   "id": "08465302",
   "metadata": {},
   "outputs": [],
   "source": [
    "df_1997_clean = df_1997_clean[df_1997_clean['ArrTime'].notnull()]\n",
    "df_2007_clean = df_2007_clean[df_2007_clean['ArrTime'].notnull()]"
   ]
  },
  {
   "cell_type": "markdown",
   "id": "8463933d",
   "metadata": {},
   "source": [
    "**TEST**"
   ]
  },
  {
   "cell_type": "code",
   "execution_count": 16,
   "id": "ea49b28f",
   "metadata": {},
   "outputs": [
    {
     "name": "stdout",
     "output_type": "stream",
     "text": [
      "1997:\n",
      " Year                       0\n",
      "Month                      0\n",
      "DayofMonth                 0\n",
      "DayOfWeek                  0\n",
      "DepTime                    0\n",
      "CRSDepTime                 0\n",
      "ArrTime                    0\n",
      "CRSArrTime                 0\n",
      "UniqueCarrier              0\n",
      "FlightNum                  0\n",
      "TailNum                    0\n",
      "ActualElapsedTime          0\n",
      "CRSElapsedTime             0\n",
      "AirTime                    0\n",
      "ArrDelay                   0\n",
      "DepDelay                   0\n",
      "Origin                     0\n",
      "Dest                       0\n",
      "Distance                   0\n",
      "TaxiIn                     0\n",
      "TaxiOut                    0\n",
      "Cancelled                  0\n",
      "CancellationCode     5301999\n",
      "Diverted                   0\n",
      "CarrierDelay         5301999\n",
      "WeatherDelay         5301999\n",
      "NASDelay             5301999\n",
      "SecurityDelay        5301999\n",
      "LateAircraftDelay    5301999\n",
      "dtype: int64 \n",
      "\n",
      "2007:\n",
      " Year                       0\n",
      "Month                      0\n",
      "DayofMonth                 0\n",
      "DayOfWeek                  0\n",
      "DepTime                    0\n",
      "CRSDepTime                 0\n",
      "ArrTime                    0\n",
      "CRSArrTime                 0\n",
      "UniqueCarrier              0\n",
      "FlightNum                  0\n",
      "TailNum                    0\n",
      "ActualElapsedTime          0\n",
      "CRSElapsedTime             0\n",
      "AirTime                    0\n",
      "ArrDelay                   0\n",
      "DepDelay                   0\n",
      "Origin                     0\n",
      "Dest                       0\n",
      "Distance                   0\n",
      "TaxiIn                     0\n",
      "TaxiOut                    0\n",
      "Cancelled                  0\n",
      "CancellationCode     7275287\n",
      "Diverted                   0\n",
      "CarrierDelay               0\n",
      "WeatherDelay               0\n",
      "NASDelay                   0\n",
      "SecurityDelay              0\n",
      "LateAircraftDelay          0\n",
      "dtype: int64 \n",
      "\n"
     ]
    }
   ],
   "source": [
    "print('1997:\\n',df_1997_clean.isnull().sum(),'\\n')\n",
    "print('2007:\\n',df_2007_clean.isnull().sum(),'\\n')"
   ]
  },
  {
   "cell_type": "markdown",
   "id": "16c19c18",
   "metadata": {},
   "source": [
    "#### DEFINE\n",
    "\n",
    "Change Datatype of Arrival time and Departure time from object to integer"
   ]
  },
  {
   "cell_type": "markdown",
   "id": "eb468e04",
   "metadata": {},
   "source": [
    "**CODE**"
   ]
  },
  {
   "cell_type": "code",
   "execution_count": 17,
   "id": "a01da037",
   "metadata": {},
   "outputs": [],
   "source": [
    "df_1997_clean['ArrTime'] = df_1997_clean['ArrTime'].astype('int')\n",
    "df_1997_clean['DepTime'] = df_1997_clean['DepTime'].astype('int')\n",
    "\n",
    "df_2007_clean['ArrTime'] = df_2007_clean['ArrTime'].astype('int')\n",
    "df_2007_clean['DepTime'] = df_2007_clean['DepTime'].astype('int')"
   ]
  },
  {
   "cell_type": "markdown",
   "id": "11a0d46b",
   "metadata": {},
   "source": [
    "**TEST**"
   ]
  },
  {
   "cell_type": "code",
   "execution_count": 18,
   "id": "f57cfc75",
   "metadata": {},
   "outputs": [
    {
     "name": "stdout",
     "output_type": "stream",
     "text": [
      "<class 'pandas.core.frame.DataFrame'>\n",
      "Int64Index: 5301999 entries, 0 to 5411842\n",
      "Data columns (total 29 columns):\n",
      " #   Column             Dtype  \n",
      "---  ------             -----  \n",
      " 0   Year               int64  \n",
      " 1   Month              int64  \n",
      " 2   DayofMonth         int64  \n",
      " 3   DayOfWeek          int64  \n",
      " 4   DepTime            int32  \n",
      " 5   CRSDepTime         int64  \n",
      " 6   ArrTime            int32  \n",
      " 7   CRSArrTime         int64  \n",
      " 8   UniqueCarrier      object \n",
      " 9   FlightNum          int64  \n",
      " 10  TailNum            object \n",
      " 11  ActualElapsedTime  float64\n",
      " 12  CRSElapsedTime     float64\n",
      " 13  AirTime            float64\n",
      " 14  ArrDelay           float64\n",
      " 15  DepDelay           float64\n",
      " 16  Origin             object \n",
      " 17  Dest               object \n",
      " 18  Distance           int64  \n",
      " 19  TaxiIn             int64  \n",
      " 20  TaxiOut            int64  \n",
      " 21  Cancelled          int64  \n",
      " 22  CancellationCode   float64\n",
      " 23  Diverted           int64  \n",
      " 24  CarrierDelay       float64\n",
      " 25  WeatherDelay       float64\n",
      " 26  NASDelay           float64\n",
      " 27  SecurityDelay      float64\n",
      " 28  LateAircraftDelay  float64\n",
      "dtypes: float64(11), int32(2), int64(12), object(4)\n",
      "memory usage: 1.1+ GB\n",
      "<class 'pandas.core.frame.DataFrame'>\n",
      "Int64Index: 7275288 entries, 0 to 7453214\n",
      "Data columns (total 29 columns):\n",
      " #   Column             Dtype  \n",
      "---  ------             -----  \n",
      " 0   Year               int64  \n",
      " 1   Month              int64  \n",
      " 2   DayofMonth         int64  \n",
      " 3   DayOfWeek          int64  \n",
      " 4   DepTime            int32  \n",
      " 5   CRSDepTime         int64  \n",
      " 6   ArrTime            int32  \n",
      " 7   CRSArrTime         int64  \n",
      " 8   UniqueCarrier      object \n",
      " 9   FlightNum          int64  \n",
      " 10  TailNum            object \n",
      " 11  ActualElapsedTime  float64\n",
      " 12  CRSElapsedTime     float64\n",
      " 13  AirTime            float64\n",
      " 14  ArrDelay           float64\n",
      " 15  DepDelay           float64\n",
      " 16  Origin             object \n",
      " 17  Dest               object \n",
      " 18  Distance           int64  \n",
      " 19  TaxiIn             int64  \n",
      " 20  TaxiOut            int64  \n",
      " 21  Cancelled          int64  \n",
      " 22  CancellationCode   object \n",
      " 23  Diverted           int64  \n",
      " 24  CarrierDelay       int64  \n",
      " 25  WeatherDelay       int64  \n",
      " 26  NASDelay           int64  \n",
      " 27  SecurityDelay      int64  \n",
      " 28  LateAircraftDelay  int64  \n",
      "dtypes: float64(5), int32(2), int64(17), object(5)\n",
      "memory usage: 1.6+ GB\n"
     ]
    }
   ],
   "source": [
    "df_1997_clean.info()\n",
    "df_2007_clean.info()"
   ]
  },
  {
   "cell_type": "markdown",
   "id": "799af15f",
   "metadata": {},
   "source": [
    "#### DEFINE\n",
    "\n",
    "Create a Date column "
   ]
  },
  {
   "cell_type": "markdown",
   "id": "4865898a",
   "metadata": {},
   "source": [
    "#### CODE"
   ]
  },
  {
   "cell_type": "code",
   "execution_count": 19,
   "id": "bb202e84",
   "metadata": {},
   "outputs": [],
   "source": [
    "# Change Column names\n",
    "df_1997_clean.rename(columns={'DayofMonth':'Day'}, inplace=True)\n",
    "df_2007_clean.rename(columns={'DayofMonth':'Day'}, inplace=True)"
   ]
  },
  {
   "cell_type": "code",
   "execution_count": 20,
   "id": "ff38bf2b",
   "metadata": {},
   "outputs": [],
   "source": [
    "# Merge date column\n",
    "df_1997_clean['date'] = pd.to_datetime(df_1997_clean[['Year', 'Month', 'Day']])\n",
    "df_2007_clean['date'] = pd.to_datetime(df_2007_clean[['Year', 'Month', 'Day']])"
   ]
  },
  {
   "cell_type": "markdown",
   "id": "e4a843c7",
   "metadata": {},
   "source": [
    "#### TEST"
   ]
  },
  {
   "cell_type": "code",
   "execution_count": 21,
   "id": "94ebb585",
   "metadata": {},
   "outputs": [
    {
     "name": "stdout",
     "output_type": "stream",
     "text": [
      "1997 Columns:\n",
      " Index(['Year', 'Month', 'Day', 'DayOfWeek', 'DepTime', 'CRSDepTime', 'ArrTime',\n",
      "       'CRSArrTime', 'UniqueCarrier', 'FlightNum', 'TailNum',\n",
      "       'ActualElapsedTime', 'CRSElapsedTime', 'AirTime', 'ArrDelay',\n",
      "       'DepDelay', 'Origin', 'Dest', 'Distance', 'TaxiIn', 'TaxiOut',\n",
      "       'Cancelled', 'CancellationCode', 'Diverted', 'CarrierDelay',\n",
      "       'WeatherDelay', 'NASDelay', 'SecurityDelay', 'LateAircraftDelay',\n",
      "       'date'],\n",
      "      dtype='object') \n",
      "\n",
      "2007 Columns:\n",
      " Index(['Year', 'Month', 'Day', 'DayOfWeek', 'DepTime', 'CRSDepTime', 'ArrTime',\n",
      "       'CRSArrTime', 'UniqueCarrier', 'FlightNum', 'TailNum',\n",
      "       'ActualElapsedTime', 'CRSElapsedTime', 'AirTime', 'ArrDelay',\n",
      "       'DepDelay', 'Origin', 'Dest', 'Distance', 'TaxiIn', 'TaxiOut',\n",
      "       'Cancelled', 'CancellationCode', 'Diverted', 'CarrierDelay',\n",
      "       'WeatherDelay', 'NASDelay', 'SecurityDelay', 'LateAircraftDelay',\n",
      "       'date'],\n",
      "      dtype='object')\n"
     ]
    }
   ],
   "source": [
    "\n",
    "#print('1988 Columns:\\n', df_1988_clean.columns)\n",
    "print('1997 Columns:\\n', df_1997_clean.columns,'\\n')\n",
    "print('2007 Columns:\\n', df_2007_clean.columns)"
   ]
  },
  {
   "cell_type": "code",
   "execution_count": 22,
   "id": "b2cc5db1",
   "metadata": {
    "scrolled": true
   },
   "outputs": [
    {
     "name": "stdout",
     "output_type": "stream",
     "text": [
      "1997:\n",
      " 1734518   1997-04-19\n",
      "3540313   1997-08-13\n",
      "1742965   1997-04-13\n",
      "3280213   1997-08-21\n",
      "521863    1997-02-17\n",
      "Name: date, dtype: datetime64[ns] \n",
      "\n",
      "2007:\n",
      " 695800    2007-02-25\n",
      "6000732   2007-10-12\n",
      "4461371   2007-08-23\n",
      "2555753   2007-05-17\n",
      "6141709   2007-10-06\n",
      "Name: date, dtype: datetime64[ns]\n"
     ]
    }
   ],
   "source": [
    "print('1997:\\n',df_1997_clean['date'].sample(5),'\\n')\n",
    "print('2007:\\n',df_2007_clean['date'].sample(5))"
   ]
  },
  {
   "cell_type": "markdown",
   "id": "05292fe3",
   "metadata": {},
   "source": [
    "#### DEFINE\n",
    "\n",
    "Change date datatype"
   ]
  },
  {
   "cell_type": "markdown",
   "id": "16682d1c",
   "metadata": {},
   "source": [
    "#### CODE"
   ]
  },
  {
   "cell_type": "code",
   "execution_count": 23,
   "id": "bbe54c38",
   "metadata": {},
   "outputs": [
    {
     "name": "stderr",
     "output_type": "stream",
     "text": [
      "C:\\Users\\Gladys\\AppData\\Local\\Temp\\ipykernel_3632\\465229740.py:1: FutureWarning: Using .astype to convert from timezone-naive dtype to timezone-aware dtype is deprecated and will raise in a future version.  Use ser.dt.tz_localize instead.\n",
      "  df_1997_clean['date'] = pd.to_datetime(df_1997_clean['date'].astype('datetime64[ns, UTC]'))\n",
      "C:\\Users\\Gladys\\AppData\\Local\\Temp\\ipykernel_3632\\465229740.py:3: FutureWarning: Using .astype to convert from timezone-naive dtype to timezone-aware dtype is deprecated and will raise in a future version.  Use ser.dt.tz_localize instead.\n",
      "  df_2007_clean['date'] = pd.to_datetime(df_2007_clean['date'].astype('datetime64[ns, UTC]'))\n"
     ]
    }
   ],
   "source": [
    "\n",
    "df_1997_clean['date'] = pd.to_datetime(df_1997_clean['date'].astype('datetime64[ns, UTC]'))\n",
    "\n",
    "df_2007_clean['date'] = pd.to_datetime(df_2007_clean['date'].astype('datetime64[ns, UTC]'))\n"
   ]
  },
  {
   "cell_type": "markdown",
   "id": "d25ef93f",
   "metadata": {},
   "source": [
    "#### TEST"
   ]
  },
  {
   "cell_type": "code",
   "execution_count": 24,
   "id": "d6dbe11a",
   "metadata": {},
   "outputs": [
    {
     "name": "stdout",
     "output_type": "stream",
     "text": [
      "<class 'pandas.core.frame.DataFrame'>\n",
      "Int64Index: 5301999 entries, 0 to 5411842\n",
      "Data columns (total 30 columns):\n",
      " #   Column             Dtype              \n",
      "---  ------             -----              \n",
      " 0   Year               int64              \n",
      " 1   Month              int64              \n",
      " 2   Day                int64              \n",
      " 3   DayOfWeek          int64              \n",
      " 4   DepTime            int32              \n",
      " 5   CRSDepTime         int64              \n",
      " 6   ArrTime            int32              \n",
      " 7   CRSArrTime         int64              \n",
      " 8   UniqueCarrier      object             \n",
      " 9   FlightNum          int64              \n",
      " 10  TailNum            object             \n",
      " 11  ActualElapsedTime  float64            \n",
      " 12  CRSElapsedTime     float64            \n",
      " 13  AirTime            float64            \n",
      " 14  ArrDelay           float64            \n",
      " 15  DepDelay           float64            \n",
      " 16  Origin             object             \n",
      " 17  Dest               object             \n",
      " 18  Distance           int64              \n",
      " 19  TaxiIn             int64              \n",
      " 20  TaxiOut            int64              \n",
      " 21  Cancelled          int64              \n",
      " 22  CancellationCode   float64            \n",
      " 23  Diverted           int64              \n",
      " 24  CarrierDelay       float64            \n",
      " 25  WeatherDelay       float64            \n",
      " 26  NASDelay           float64            \n",
      " 27  SecurityDelay      float64            \n",
      " 28  LateAircraftDelay  float64            \n",
      " 29  date               datetime64[ns, UTC]\n",
      "dtypes: datetime64[ns, UTC](1), float64(11), int32(2), int64(12), object(4)\n",
      "memory usage: 1.2+ GB\n",
      "<class 'pandas.core.frame.DataFrame'>\n",
      "Int64Index: 7275288 entries, 0 to 7453214\n",
      "Data columns (total 30 columns):\n",
      " #   Column             Dtype              \n",
      "---  ------             -----              \n",
      " 0   Year               int64              \n",
      " 1   Month              int64              \n",
      " 2   Day                int64              \n",
      " 3   DayOfWeek          int64              \n",
      " 4   DepTime            int32              \n",
      " 5   CRSDepTime         int64              \n",
      " 6   ArrTime            int32              \n",
      " 7   CRSArrTime         int64              \n",
      " 8   UniqueCarrier      object             \n",
      " 9   FlightNum          int64              \n",
      " 10  TailNum            object             \n",
      " 11  ActualElapsedTime  float64            \n",
      " 12  CRSElapsedTime     float64            \n",
      " 13  AirTime            float64            \n",
      " 14  ArrDelay           float64            \n",
      " 15  DepDelay           float64            \n",
      " 16  Origin             object             \n",
      " 17  Dest               object             \n",
      " 18  Distance           int64              \n",
      " 19  TaxiIn             int64              \n",
      " 20  TaxiOut            int64              \n",
      " 21  Cancelled          int64              \n",
      " 22  CancellationCode   object             \n",
      " 23  Diverted           int64              \n",
      " 24  CarrierDelay       int64              \n",
      " 25  WeatherDelay       int64              \n",
      " 26  NASDelay           int64              \n",
      " 27  SecurityDelay      int64              \n",
      " 28  LateAircraftDelay  int64              \n",
      " 29  date               datetime64[ns, UTC]\n",
      "dtypes: datetime64[ns, UTC](1), float64(5), int32(2), int64(17), object(5)\n",
      "memory usage: 1.6+ GB\n"
     ]
    }
   ],
   "source": [
    "df_1997_clean.info()\n",
    "df_2007_clean.info()"
   ]
  },
  {
   "cell_type": "markdown",
   "id": "7ae165cb",
   "metadata": {},
   "source": [
    "#### DEFINE\n",
    "\n",
    "Change Day of Week values to be names of days instead of the number representatons"
   ]
  },
  {
   "cell_type": "markdown",
   "id": "6be978bb",
   "metadata": {},
   "source": [
    "#### CODE"
   ]
  },
  {
   "cell_type": "code",
   "execution_count": 25,
   "id": "7b08e2bf",
   "metadata": {},
   "outputs": [],
   "source": [
    "\n",
    "df_1997_clean['Week_day'] = df_1997_clean['date'].dt.day_name()\n",
    "df_2007_clean['Week_day'] = df_2007_clean['date'].dt.day_name()"
   ]
  },
  {
   "cell_type": "markdown",
   "id": "bcec3b09",
   "metadata": {},
   "source": [
    "#### TEST"
   ]
  },
  {
   "cell_type": "code",
   "execution_count": 26,
   "id": "80c7d093",
   "metadata": {},
   "outputs": [
    {
     "name": "stdout",
     "output_type": "stream",
     "text": [
      "1997:\n",
      "          Week_day  DayOfWeek\n",
      "1155239   Tuesday          2\n",
      "4054379  Thursday          4\n",
      "1579873  Thursday          4\n",
      "3680876   Tuesday          2\n",
      "1786161  Saturday          6 \n",
      "\n",
      "2007:\n",
      "          Week_day  DayOfWeek\n",
      "146736     Monday          1\n",
      "3932528    Friday          5\n",
      "7427756  Saturday          6\n",
      "5032477   Tuesday          2\n",
      "4332423  Thursday          4\n"
     ]
    }
   ],
   "source": [
    "# Confirm if columns values match ie, 1 for Monday, 2 for Tuesday etc\n",
    "print('1997:\\n',df_1997_clean[['Week_day', 'DayOfWeek']].sample(5),'\\n')\n",
    "print('2007:\\n',df_2007_clean[['Week_day', 'DayOfWeek']].sample(5))"
   ]
  },
  {
   "cell_type": "code",
   "execution_count": null,
   "id": "12490c5d",
   "metadata": {},
   "outputs": [],
   "source": []
  },
  {
   "cell_type": "markdown",
   "id": "b5ca0e21",
   "metadata": {},
   "source": [
    "#### DEFINE\n",
    "\n",
    "Drop duplicates"
   ]
  },
  {
   "cell_type": "markdown",
   "id": "cfed435f",
   "metadata": {},
   "source": [
    "#### CODE\n"
   ]
  },
  {
   "cell_type": "code",
   "execution_count": 27,
   "id": "18ff91e6",
   "metadata": {},
   "outputs": [],
   "source": [
    "#df_1988_clean.drop_duplicates(inplace=True)\n",
    "#df_1997_clean.drop_duplicates(inplace=True)\n",
    "df_2007_clean.drop_duplicates(inplace=True)"
   ]
  },
  {
   "cell_type": "markdown",
   "id": "4a0f32a3",
   "metadata": {},
   "source": [
    "#### TEST"
   ]
  },
  {
   "cell_type": "code",
   "execution_count": 28,
   "id": "5b4adb84",
   "metadata": {},
   "outputs": [
    {
     "name": "stdout",
     "output_type": "stream",
     "text": [
      "2007:\n",
      " 0\n"
     ]
    }
   ],
   "source": [
    "#print('1988:\\n',df_1988_clean.duplicated().sum(),'\\n')\n",
    "#print('1997:\\n',df_1997_clean.duplicated().sum(),'\\n')\n",
    "print('2007:\\n',df_2007_clean.duplicated().sum())"
   ]
  },
  {
   "cell_type": "markdown",
   "id": "f49abc7b",
   "metadata": {},
   "source": [
    "#### DEFINE :\n",
    "\n",
    "Drop Columns not needed for analysis\n"
   ]
  },
  {
   "cell_type": "markdown",
   "id": "3af08217",
   "metadata": {},
   "source": [
    "#### CODE"
   ]
  },
  {
   "cell_type": "code",
   "execution_count": 29,
   "id": "0bb6853e",
   "metadata": {},
   "outputs": [],
   "source": [
    "#df_1988_clean = df_1988_clean.drop(columns=['FlightNum', 'TailNum','ActualElapsedTime', 'CRSElapsedTime',\n",
    "                                            #'DayOfWeek','Distance','TaxiIn', 'TaxiOut'], axis=1)"
   ]
  },
  {
   "cell_type": "code",
   "execution_count": 30,
   "id": "fac9d1e3",
   "metadata": {},
   "outputs": [],
   "source": [
    "df_1997_clean = df_1997_clean.drop(columns=['Year','FlightNum', 'TailNum','ActualElapsedTime', 'CRSElapsedTime',\n",
    "                                            'DayOfWeek','TaxiIn', 'TaxiOut'], axis=1)"
   ]
  },
  {
   "cell_type": "code",
   "execution_count": 31,
   "id": "b3073656",
   "metadata": {},
   "outputs": [],
   "source": [
    "df_2007_clean = df_2007_clean.drop(columns=['Year','FlightNum', 'TailNum','ActualElapsedTime', 'CRSElapsedTime',\n",
    "                                            'DayOfWeek','TaxiIn', 'TaxiOut'], axis=1)"
   ]
  },
  {
   "cell_type": "markdown",
   "id": "443f7bab",
   "metadata": {},
   "source": [
    "#### TEST"
   ]
  },
  {
   "cell_type": "code",
   "execution_count": 32,
   "id": "62dbb2a9",
   "metadata": {},
   "outputs": [
    {
     "name": "stdout",
     "output_type": "stream",
     "text": [
      "1997 Columns:\n",
      " Index(['Month', 'Day', 'DepTime', 'CRSDepTime', 'ArrTime', 'CRSArrTime',\n",
      "       'UniqueCarrier', 'AirTime', 'ArrDelay', 'DepDelay', 'Origin', 'Dest',\n",
      "       'Distance', 'Cancelled', 'CancellationCode', 'Diverted', 'CarrierDelay',\n",
      "       'WeatherDelay', 'NASDelay', 'SecurityDelay', 'LateAircraftDelay',\n",
      "       'date', 'Week_day'],\n",
      "      dtype='object') \n",
      "\n",
      "2007 Columns:\n",
      " Index(['Month', 'Day', 'DepTime', 'CRSDepTime', 'ArrTime', 'CRSArrTime',\n",
      "       'UniqueCarrier', 'AirTime', 'ArrDelay', 'DepDelay', 'Origin', 'Dest',\n",
      "       'Distance', 'Cancelled', 'CancellationCode', 'Diverted', 'CarrierDelay',\n",
      "       'WeatherDelay', 'NASDelay', 'SecurityDelay', 'LateAircraftDelay',\n",
      "       'date', 'Week_day'],\n",
      "      dtype='object')\n"
     ]
    }
   ],
   "source": [
    "#print('1988 Columns:\\n', df_1988_clean.columns)\n",
    "print('1997 Columns:\\n', df_1997_clean.columns,'\\n')\n",
    "print('2007 Columns:\\n', df_2007_clean.columns)"
   ]
  },
  {
   "cell_type": "markdown",
   "id": "971c7802",
   "metadata": {},
   "source": [
    "#### DEFINE\n",
    "\n",
    "Re-index the columns"
   ]
  },
  {
   "cell_type": "markdown",
   "id": "22e260ed",
   "metadata": {},
   "source": [
    "#### CODE"
   ]
  },
  {
   "cell_type": "code",
   "execution_count": 33,
   "id": "b10367ee",
   "metadata": {},
   "outputs": [],
   "source": [
    "df_1997_clean = df_1997_clean.reindex(columns=['date','Month','Day','Week_day', 'DepTime', 'CRSDepTime', 'ArrTime', \n",
    "                                               'CRSArrTime','UniqueCarrier', 'AirTime', 'ArrDelay', 'DepDelay', 'Origin', \n",
    "                                               'Dest','Cancelled', 'CancellationCode', 'Diverted', 'CarrierDelay','Distance',\n",
    "                                               'WeatherDelay', 'NASDelay', 'SecurityDelay', 'LateAircraftDelay' ])"
   ]
  },
  {
   "cell_type": "code",
   "execution_count": 34,
   "id": "20ad01a6",
   "metadata": {},
   "outputs": [],
   "source": [
    "df_2007_clean = df_2007_clean.reindex(columns=['date','Month','Day','Week_day', 'DepTime', 'CRSDepTime', 'ArrTime', \n",
    "                                               'CRSArrTime','UniqueCarrier', 'AirTime', 'ArrDelay', 'DepDelay', 'Origin', \n",
    "                                               'Dest','Cancelled', 'CancellationCode', 'Diverted', 'CarrierDelay','Distance',\n",
    "                                               'WeatherDelay', 'NASDelay', 'SecurityDelay', 'LateAircraftDelay' ])"
   ]
  },
  {
   "cell_type": "markdown",
   "id": "429df5aa",
   "metadata": {},
   "source": [
    "#### TEST"
   ]
  },
  {
   "cell_type": "code",
   "execution_count": 35,
   "id": "322a553f",
   "metadata": {
    "scrolled": true
   },
   "outputs": [
    {
     "data": {
      "text/html": [
       "<div>\n",
       "<style scoped>\n",
       "    .dataframe tbody tr th:only-of-type {\n",
       "        vertical-align: middle;\n",
       "    }\n",
       "\n",
       "    .dataframe tbody tr th {\n",
       "        vertical-align: top;\n",
       "    }\n",
       "\n",
       "    .dataframe thead th {\n",
       "        text-align: right;\n",
       "    }\n",
       "</style>\n",
       "<table border=\"1\" class=\"dataframe\">\n",
       "  <thead>\n",
       "    <tr style=\"text-align: right;\">\n",
       "      <th></th>\n",
       "      <th>date</th>\n",
       "      <th>Month</th>\n",
       "      <th>Day</th>\n",
       "      <th>Week_day</th>\n",
       "      <th>DepTime</th>\n",
       "      <th>CRSDepTime</th>\n",
       "      <th>ArrTime</th>\n",
       "      <th>CRSArrTime</th>\n",
       "      <th>UniqueCarrier</th>\n",
       "      <th>AirTime</th>\n",
       "      <th>ArrDelay</th>\n",
       "      <th>DepDelay</th>\n",
       "      <th>Origin</th>\n",
       "      <th>Dest</th>\n",
       "      <th>Cancelled</th>\n",
       "      <th>CancellationCode</th>\n",
       "      <th>Diverted</th>\n",
       "      <th>CarrierDelay</th>\n",
       "      <th>Distance</th>\n",
       "      <th>WeatherDelay</th>\n",
       "      <th>NASDelay</th>\n",
       "      <th>SecurityDelay</th>\n",
       "      <th>LateAircraftDelay</th>\n",
       "    </tr>\n",
       "  </thead>\n",
       "  <tbody>\n",
       "    <tr>\n",
       "      <th>0</th>\n",
       "      <td>2007-01-01 00:00:00+00:00</td>\n",
       "      <td>1</td>\n",
       "      <td>1</td>\n",
       "      <td>Monday</td>\n",
       "      <td>1232</td>\n",
       "      <td>1225</td>\n",
       "      <td>1341</td>\n",
       "      <td>1340</td>\n",
       "      <td>WN</td>\n",
       "      <td>54.0</td>\n",
       "      <td>1.0</td>\n",
       "      <td>7.0</td>\n",
       "      <td>SMF</td>\n",
       "      <td>ONT</td>\n",
       "      <td>0</td>\n",
       "      <td>NaN</td>\n",
       "      <td>0</td>\n",
       "      <td>0</td>\n",
       "      <td>389</td>\n",
       "      <td>0</td>\n",
       "      <td>0</td>\n",
       "      <td>0</td>\n",
       "      <td>0</td>\n",
       "    </tr>\n",
       "    <tr>\n",
       "      <th>1</th>\n",
       "      <td>2007-01-01 00:00:00+00:00</td>\n",
       "      <td>1</td>\n",
       "      <td>1</td>\n",
       "      <td>Monday</td>\n",
       "      <td>1918</td>\n",
       "      <td>1905</td>\n",
       "      <td>2043</td>\n",
       "      <td>2035</td>\n",
       "      <td>WN</td>\n",
       "      <td>74.0</td>\n",
       "      <td>8.0</td>\n",
       "      <td>13.0</td>\n",
       "      <td>SMF</td>\n",
       "      <td>PDX</td>\n",
       "      <td>0</td>\n",
       "      <td>NaN</td>\n",
       "      <td>0</td>\n",
       "      <td>0</td>\n",
       "      <td>479</td>\n",
       "      <td>0</td>\n",
       "      <td>0</td>\n",
       "      <td>0</td>\n",
       "      <td>0</td>\n",
       "    </tr>\n",
       "    <tr>\n",
       "      <th>2</th>\n",
       "      <td>2007-01-01 00:00:00+00:00</td>\n",
       "      <td>1</td>\n",
       "      <td>1</td>\n",
       "      <td>Monday</td>\n",
       "      <td>2206</td>\n",
       "      <td>2130</td>\n",
       "      <td>2334</td>\n",
       "      <td>2300</td>\n",
       "      <td>WN</td>\n",
       "      <td>73.0</td>\n",
       "      <td>34.0</td>\n",
       "      <td>36.0</td>\n",
       "      <td>SMF</td>\n",
       "      <td>PDX</td>\n",
       "      <td>0</td>\n",
       "      <td>NaN</td>\n",
       "      <td>0</td>\n",
       "      <td>3</td>\n",
       "      <td>479</td>\n",
       "      <td>0</td>\n",
       "      <td>0</td>\n",
       "      <td>0</td>\n",
       "      <td>31</td>\n",
       "    </tr>\n",
       "    <tr>\n",
       "      <th>3</th>\n",
       "      <td>2007-01-01 00:00:00+00:00</td>\n",
       "      <td>1</td>\n",
       "      <td>1</td>\n",
       "      <td>Monday</td>\n",
       "      <td>1230</td>\n",
       "      <td>1200</td>\n",
       "      <td>1356</td>\n",
       "      <td>1330</td>\n",
       "      <td>WN</td>\n",
       "      <td>75.0</td>\n",
       "      <td>26.0</td>\n",
       "      <td>30.0</td>\n",
       "      <td>SMF</td>\n",
       "      <td>PDX</td>\n",
       "      <td>0</td>\n",
       "      <td>NaN</td>\n",
       "      <td>0</td>\n",
       "      <td>23</td>\n",
       "      <td>479</td>\n",
       "      <td>0</td>\n",
       "      <td>0</td>\n",
       "      <td>0</td>\n",
       "      <td>3</td>\n",
       "    </tr>\n",
       "    <tr>\n",
       "      <th>4</th>\n",
       "      <td>2007-01-01 00:00:00+00:00</td>\n",
       "      <td>1</td>\n",
       "      <td>1</td>\n",
       "      <td>Monday</td>\n",
       "      <td>831</td>\n",
       "      <td>830</td>\n",
       "      <td>957</td>\n",
       "      <td>1000</td>\n",
       "      <td>WN</td>\n",
       "      <td>74.0</td>\n",
       "      <td>-3.0</td>\n",
       "      <td>1.0</td>\n",
       "      <td>SMF</td>\n",
       "      <td>PDX</td>\n",
       "      <td>0</td>\n",
       "      <td>NaN</td>\n",
       "      <td>0</td>\n",
       "      <td>0</td>\n",
       "      <td>479</td>\n",
       "      <td>0</td>\n",
       "      <td>0</td>\n",
       "      <td>0</td>\n",
       "      <td>0</td>\n",
       "    </tr>\n",
       "  </tbody>\n",
       "</table>\n",
       "</div>"
      ],
      "text/plain": [
       "                       date  Month  Day Week_day  DepTime  CRSDepTime  \\\n",
       "0 2007-01-01 00:00:00+00:00      1    1   Monday     1232        1225   \n",
       "1 2007-01-01 00:00:00+00:00      1    1   Monday     1918        1905   \n",
       "2 2007-01-01 00:00:00+00:00      1    1   Monday     2206        2130   \n",
       "3 2007-01-01 00:00:00+00:00      1    1   Monday     1230        1200   \n",
       "4 2007-01-01 00:00:00+00:00      1    1   Monday      831         830   \n",
       "\n",
       "   ArrTime  CRSArrTime UniqueCarrier  AirTime  ArrDelay  DepDelay Origin Dest  \\\n",
       "0     1341        1340            WN     54.0       1.0       7.0    SMF  ONT   \n",
       "1     2043        2035            WN     74.0       8.0      13.0    SMF  PDX   \n",
       "2     2334        2300            WN     73.0      34.0      36.0    SMF  PDX   \n",
       "3     1356        1330            WN     75.0      26.0      30.0    SMF  PDX   \n",
       "4      957        1000            WN     74.0      -3.0       1.0    SMF  PDX   \n",
       "\n",
       "   Cancelled CancellationCode  Diverted  CarrierDelay  Distance  WeatherDelay  \\\n",
       "0          0              NaN         0             0       389             0   \n",
       "1          0              NaN         0             0       479             0   \n",
       "2          0              NaN         0             3       479             0   \n",
       "3          0              NaN         0            23       479             0   \n",
       "4          0              NaN         0             0       479             0   \n",
       "\n",
       "   NASDelay  SecurityDelay  LateAircraftDelay  \n",
       "0         0              0                  0  \n",
       "1         0              0                  0  \n",
       "2         0              0                 31  \n",
       "3         0              0                  3  \n",
       "4         0              0                  0  "
      ]
     },
     "execution_count": 35,
     "metadata": {},
     "output_type": "execute_result"
    }
   ],
   "source": [
    "df_2007_clean.head()"
   ]
  },
  {
   "cell_type": "code",
   "execution_count": null,
   "id": "b1b240b4",
   "metadata": {},
   "outputs": [],
   "source": []
  },
  {
   "cell_type": "markdown",
   "id": "b2149523",
   "metadata": {},
   "source": [
    "### STORAGE"
   ]
  },
  {
   "cell_type": "code",
   "execution_count": 36,
   "id": "bcf026be",
   "metadata": {},
   "outputs": [],
   "source": [
    "#Save to csv file\n",
    "df_1997_clean.to_csv('flight_90s.csv', index=False)\n",
    "df_2007_clean.to_csv('flight_2000s.csv', index=False)"
   ]
  },
  {
   "cell_type": "code",
   "execution_count": null,
   "id": "58393698",
   "metadata": {},
   "outputs": [],
   "source": []
  }
 ],
 "metadata": {
  "kernelspec": {
   "display_name": "Python 3 (ipykernel)",
   "language": "python",
   "name": "python3"
  },
  "language_info": {
   "codemirror_mode": {
    "name": "ipython",
    "version": 3
   },
   "file_extension": ".py",
   "mimetype": "text/x-python",
   "name": "python",
   "nbconvert_exporter": "python",
   "pygments_lexer": "ipython3",
   "version": "3.9.15"
  }
 },
 "nbformat": 4,
 "nbformat_minor": 5
}
